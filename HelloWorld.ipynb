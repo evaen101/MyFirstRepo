{
 "cells": [
  {
   "cell_type": "code",
   "execution_count": 1,
   "id": "fb9a9fb4-ae97-4e00-ae05-73413660dbb4",
   "metadata": {},
   "outputs": [
    {
     "name": "stdout",
     "output_type": "stream",
     "text": [
      "Hello, world!\n"
     ]
    }
   ],
   "source": [
    "print(\"Hello, world!\")"
   ]
  },
  {
   "cell_type": "markdown",
   "id": "733339a4-e91d-4752-8dfc-51a8683a49e4",
   "metadata": {},
   "source": [
    "# My First Markdown Heading"
   ]
  },
  {
   "cell_type": "markdown",
   "id": "8073f007-50b3-46ed-8b8b-aab70bee41a6",
   "metadata": {},
   "source": [
    "## My Second Markdown Heading"
   ]
  },
  {
   "cell_type": "markdown",
   "id": "4e351343-3761-4306-b165-46db013adac3",
   "metadata": {},
   "source": [
    "This is some **bold** text"
   ]
  },
  {
   "cell_type": "markdown",
   "id": "256286a6-bd48-48d9-9c5a-4a6a0e332114",
   "metadata": {},
   "source": [
    "1. First item\n",
    "2. Second item\n",
    "3. Third item"
   ]
  },
  {
   "cell_type": "code",
   "execution_count": 2,
   "id": "2bcbc171-35fd-4c14-95de-330229066242",
   "metadata": {},
   "outputs": [],
   "source": [
    "my_var = 5"
   ]
  },
  {
   "cell_type": "code",
   "execution_count": 3,
   "id": "47bcc77f-3409-4bde-979c-2e377d5c8978",
   "metadata": {},
   "outputs": [],
   "source": [
    "result = my_var*2"
   ]
  },
  {
   "cell_type": "code",
   "execution_count": 4,
   "id": "f9fdfe11-57f2-46ad-92a7-162a500dbc56",
   "metadata": {},
   "outputs": [
    {
     "name": "stdout",
     "output_type": "stream",
     "text": [
      "10\n"
     ]
    }
   ],
   "source": [
    "print(result)"
   ]
  },
  {
   "cell_type": "code",
   "execution_count": 4,
   "id": "dde67a6f-9c52-42ad-9223-f750cd367baa",
   "metadata": {},
   "outputs": [
    {
     "name": "stdout",
     "output_type": "stream",
     "text": [
      "10\n"
     ]
    }
   ],
   "source": []
  },
  {
   "cell_type": "markdown",
   "id": "ca8a7cf5-cb83-4684-8ebf-4c0e6eb5a839",
   "metadata": {},
   "source": [
    "# My First Markdown Heading"
   ]
  },
  {
   "cell_type": "markdown",
   "id": "f1472950-ea53-4ddf-9185-baa890b6c40f",
   "metadata": {},
   "source": [
    "## My Smallest Markdown Heading"
   ]
  },
  {
   "cell_type": "markdown",
   "id": "0b299fbe-ecd5-4d75-a1fe-7104704fa094",
   "metadata": {},
   "source": [
    "**bold**"
   ]
  },
  {
   "cell_type": "code",
   "execution_count": null,
   "id": "85cc075b-8b95-442f-ae0f-3fa72e5f7761",
   "metadata": {},
   "outputs": [],
   "source": []
  }
 ],
 "metadata": {
  "kernelspec": {
   "display_name": "Python 3 (ipykernel)",
   "language": "python",
   "name": "python3"
  },
  "language_info": {
   "codemirror_mode": {
    "name": "ipython",
    "version": 3
   },
   "file_extension": ".py",
   "mimetype": "text/x-python",
   "name": "python",
   "nbconvert_exporter": "python",
   "pygments_lexer": "ipython3",
   "version": "3.10.9"
  }
 },
 "nbformat": 4,
 "nbformat_minor": 5
}
